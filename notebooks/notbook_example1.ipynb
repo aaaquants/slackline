{
 "cells": [
  {
   "cell_type": "code",
   "execution_count": 4,
   "metadata": {
    "collapsed": false
   },
   "outputs": [
    {
     "name": "stdout",
     "output_type": "stream",
     "text": [
      "{'GOOG': ctable((1762,), [('one', '<f8'), ('two', '<f8'), ('three', '<f8'), ('four', '<f8'), ('five', '<f8'), ('date', '<i8')])\n",
      "  nbytes: 82.59 KB; cbytes: 768.00 KB; ratio: 0.11\n",
      "  cparams := cparams(clevel=5, shuffle=1, cname='blosclz')\n",
      "[(313.16, 314.44, 311.81, 313.06, nan, 1262563200)\n",
      " (313.28, 313.61, 310.46, 311.68, nan, 1262649600)\n",
      " (312.62, 312.62, 302.88, 303.83, nan, 1262736000) ...,\n",
      " (793.7, 794.23, 783.2, 785.05, 1153824.0, 1482883200)\n",
      " (783.33, 785.93, 778.92, 782.79, 744272.0, 1482969600)\n",
      " (782.75, 782.78, 770.41, 771.82, 1769950.0, 1483056000)], 'CSCO': ctable((1762,), [('one', '<f8'), ('two', '<f8'), ('three', '<f8'), ('four', '<f8'), ('five', '<f8'), ('date', '<i8')])\n",
      "  nbytes: 82.59 KB; cbytes: 768.00 KB; ratio: 0.11\n",
      "  cparams := cparams(clevel=5, shuffle=1, cname='blosclz')\n",
      "[(24.11, 24.84, 24.01, 24.69, 59859189.0, 1262563200)\n",
      " (24.6, 24.73, 24.38, 24.58, 45128409.0, 1262649600)\n",
      " (24.54, 24.74, 24.34, 24.42, 35716784.0, 1262736000) ...,\n",
      " (30.7, 30.77, 30.35, 30.42, 12022231.0, 1482883200)\n",
      " (30.37, 30.55, 30.33, 30.46, 10995584.0, 1482969600)\n",
      " (30.56, 30.6, 30.13, 30.22, 20190029.0, 1483056000)], 'IBM': ctable((1762,), [('one', '<f8'), ('two', '<f8'), ('three', '<f8'), ('four', '<f8'), ('five', '<f8'), ('date', '<i8')])\n",
      "  nbytes: 82.59 KB; cbytes: 768.00 KB; ratio: 0.11\n",
      "  cparams := cparams(clevel=5, shuffle=1, cname='blosclz')\n",
      "[(131.18, 132.97, 130.85, 132.45, 6155846.0, 1262563200)\n",
      " (131.68, 131.85, 130.1, 130.85, 6842471.0, 1262649600)\n",
      " (130.68, 131.49, 129.81, 130.0, 5605290.0, 1262736000) ...,\n",
      " (167.29, 167.74, 166.0, 166.19, 1757500.0, 1482883200)\n",
      " (166.02, 166.99, 166.0, 166.6, 1663542.0, 1482969600)\n",
      " (166.44, 166.7, 165.5, 165.99, 2952825.0, 1483056000)], 'F': ctable((1762,), [('one', '<f8'), ('two', '<f8'), ('three', '<f8'), ('four', '<f8'), ('five', '<f8'), ('date', '<i8')])\n",
      "  nbytes: 82.59 KB; cbytes: 768.00 KB; ratio: 0.11\n",
      "  cparams := cparams(clevel=5, shuffle=1, cname='blosclz')\n",
      "[(10.17, 10.28, 10.05, 10.28, 60855796.0, 1262563200)\n",
      " (10.45, 11.24, 10.4, 10.96, 215620138.0, 1262649600)\n",
      " (11.21, 11.46, 11.13, 11.37, 200070554.0, 1262736000) ...,\n",
      " (12.37, 12.45, 12.22, 12.25, 26875381.0, 1482883200)\n",
      " (12.25, 12.31, 12.22, 12.23, 19819081.0, 1482969600)\n",
      " (12.24, 12.28, 12.08, 12.13, 27405736.0, 1483056000)]}\n"
     ]
    }
   ],
   "source": [
    "from data_factory import *\n",
    "\n",
    "fact = WebDataFactory([\"F\",\"IBM\",\"CSCO\",\"GOOG\"],datetime(2010, 1, 1),datetime(2017, 1, 1),source='google')()\n",
    "print fact\n"
   ]
  },
  {
   "cell_type": "code",
   "execution_count": 5,
   "metadata": {
    "collapsed": false
   },
   "outputs": [
    {
     "name": "stdout",
     "output_type": "stream",
     "text": [
      "{'AAPL': ctable((1200,), [('one', '<f8'), ('two', '<f8'), ('three', '<f8'), ('four', '<f8'), ('five', '<i8'), ('date', '<i8')])\n",
      "  nbytes: 56.25 KB; cbytes: 384.00 KB; ratio: 0.15\n",
      "  cparams := cparams(clevel=5, shuffle=1, cname='blosclz')\n",
      "[(39.67, 39.71, 39.1, 39.34, 158618691, 1284681600)\n",
      " (39.44, 40.54, 39.41, 40.46, 164822833, 1284940800)\n",
      " (40.55, 41.05, 40.4, 40.54, 167418881, 1285027200) ...,\n",
      " (127.49, 128.06, 127.08, 127.61, 34039345, 1434931200)\n",
      " (127.48, 127.61, 126.88, 127.03, 30268863, 1435017600)\n",
      " (127.21, 129.8, 127.12, 128.11, 55280855, 1435104000)], 'MSFT': ctable((1200,), [('one', '<f8'), ('two', '<f8'), ('three', '<f8'), ('four', '<f8'), ('five', '<i8'), ('date', '<i8')])\n",
      "  nbytes: 56.25 KB; cbytes: 384.00 KB; ratio: 0.15\n",
      "  cparams := cparams(clevel=5, shuffle=1, cname='blosclz')\n",
      "[(25.4, 25.53, 25.08, 25.22, 70341518, 1284681600)\n",
      " (25.28, 25.52, 25.11, 25.43, 49877219, 1284940800)\n",
      " (25.42, 25.42, 25.08, 25.15, 52924157, 1285027200) ...,\n",
      " (46.33, 46.72, 46.16, 46.23, 20318055, 1434931200)\n",
      " (46.13, 46.28, 45.62, 45.91, 25896473, 1435017600)\n",
      " (45.67, 46.24, 45.55, 45.64, 34890901, 1435104000)]}\n"
     ]
    }
   ],
   "source": [
    "data = CSVDataFactory(['data/AAPL.csv','data/MSFT.csv'])\n",
    "print data.mydata"
   ]
  },
  {
   "cell_type": "code",
   "execution_count": 6,
   "metadata": {
    "collapsed": false
   },
   "outputs": [
    {
     "name": "stdout",
     "output_type": "stream",
     "text": [
      "{'1': ctable((10000,), [('one', '<f8'), ('two', '<f8'), ('three', '<f8'), ('four', '<f8'), ('date', '<i8')])\n",
      "  nbytes: 390.62 KB; cbytes: 640.00 KB; ratio: 0.61\n",
      "  cparams := cparams(clevel=5, shuffle=1, cname='blosclz')\n",
      "[ (199.68189255711903, 199.68189255711903, 199.68189255711903, 199.68189255711903, 946684800)\n",
      " (199.73608207182005, 199.73608207182005, 199.73608207182005, 199.73608207182005, 946688400)\n",
      " (199.8710848875758, 199.8710848875758, 199.8710848875758, 199.8710848875758, 946692000)\n",
      " ...,\n",
      " (312.3211031744758, 312.3211031744758, 312.3211031744758, 312.3211031744758, 982674000)\n",
      " (312.1181520236501, 312.1181520236501, 312.1181520236501, 312.1181520236501, 982677600)\n",
      " (311.5809862578544, 311.5809862578544, 311.5809862578544, 311.5809862578544, 982681200)], '0': ctable((10000,), [('one', '<f8'), ('two', '<f8'), ('three', '<f8'), ('four', '<f8'), ('date', '<i8')])\n",
      "  nbytes: 390.62 KB; cbytes: 640.00 KB; ratio: 0.61\n",
      "  cparams := cparams(clevel=5, shuffle=1, cname='blosclz')\n",
      "[ (200.18953286278835, 200.18953286278835, 200.18953286278835, 200.18953286278835, 946684800)\n",
      " (200.18516043978417, 200.18516043978417, 200.18516043978417, 200.18516043978417, 946688400)\n",
      " (200.24258148172734, 200.24258148172734, 200.24258148172734, 200.24258148172734, 946692000)\n",
      " ...,\n",
      " (265.36187823395494, 265.36187823395494, 265.36187823395494, 265.36187823395494, 982674000)\n",
      " (265.35893434699096, 265.35893434699096, 265.35893434699096, 265.35893434699096, 982677600)\n",
      " (265.4432770779497, 265.4432770779497, 265.4432770779497, 265.4432770779497, 982681200)], '3': ctable((10000,), [('one', '<f8'), ('two', '<f8'), ('three', '<f8'), ('four', '<f8'), ('date', '<i8')])\n",
      "  nbytes: 390.62 KB; cbytes: 640.00 KB; ratio: 0.61\n",
      "  cparams := cparams(clevel=5, shuffle=1, cname='blosclz')\n",
      "[ (199.28749409992628, 199.28749409992628, 199.28749409992628, 199.28749409992628, 946684800)\n",
      " (198.68315131226575, 198.68315131226575, 198.68315131226575, 198.68315131226575, 946688400)\n",
      " (197.74274124074879, 197.74274124074879, 197.74274124074879, 197.74274124074879, 946692000)\n",
      " ...,\n",
      " (414.62210731761803, 414.62210731761803, 414.62210731761803, 414.62210731761803, 982674000)\n",
      " (414.9993009831845, 414.9993009831845, 414.9993009831845, 414.9993009831845, 982677600)\n",
      " (415.91514475737023, 415.91514475737023, 415.91514475737023, 415.91514475737023, 982681200)], '2': ctable((10000,), [('one', '<f8'), ('two', '<f8'), ('three', '<f8'), ('four', '<f8'), ('date', '<i8')])\n",
      "  nbytes: 390.62 KB; cbytes: 640.00 KB; ratio: 0.61\n",
      "  cparams := cparams(clevel=5, shuffle=1, cname='blosclz')\n",
      "[ (200.50422400501031, 200.50422400501031, 200.50422400501031, 200.50422400501031, 946684800)\n",
      " (200.72914938072338, 200.72914938072338, 200.72914938072338, 200.72914938072338, 946688400)\n",
      " (200.53045266298886, 200.53045266298886, 200.53045266298886, 200.53045266298886, 946692000)\n",
      " ...,\n",
      " (386.63681859442795, 386.63681859442795, 386.63681859442795, 386.63681859442795, 982674000)\n",
      " (385.9321318149023, 385.9321318149023, 385.9321318149023, 385.9321318149023, 982677600)\n",
      " (385.0907774360587, 385.0907774360587, 385.0907774360587, 385.0907774360587, 982681200)], '4': ctable((10000,), [('one', '<f8'), ('two', '<f8'), ('three', '<f8'), ('four', '<f8'), ('date', '<i8')])\n",
      "  nbytes: 390.62 KB; cbytes: 640.00 KB; ratio: 0.61\n",
      "  cparams := cparams(clevel=5, shuffle=1, cname='blosclz')\n",
      "[ (200.04188117955798, 200.04188117955798, 200.04188117955798, 200.04188117955798, 946684800)\n",
      " (201.13308765156958, 201.13308765156958, 201.13308765156958, 201.13308765156958, 946688400)\n",
      " (200.29918154425707, 200.29918154425707, 200.29918154425707, 200.29918154425707, 946692000)\n",
      " ...,\n",
      " (584.8090771898665, 584.8090771898665, 584.8090771898665, 584.8090771898665, 982674000)\n",
      " (584.6167356368735, 584.6167356368735, 584.6167356368735, 584.6167356368735, 982677600)\n",
      " (585.4703127748821, 585.4703127748821, 585.4703127748821, 585.4703127748821, 982681200)]}\n"
     ]
    }
   ],
   "source": [
    "data = RandomDataFactory(rcfg)\n",
    "print data.mydata"
   ]
  },
  {
   "cell_type": "code",
   "execution_count": 7,
   "metadata": {
    "collapsed": false
   },
   "outputs": [
    {
     "name": "stdout",
     "output_type": "stream",
     "text": [
      "{'ask': 9468, 'bid': 9467, 'ticker': 'A', 'time': '2016-12-17 02:12:59.27998'}\n",
      "\n"
     ]
    }
   ],
   "source": [
    "data = StreamDataFactory('data/test_stream.csv')\n",
    "print data.mydata()"
   ]
  },
  {
   "cell_type": "code",
   "execution_count": 8,
   "metadata": {
    "collapsed": false
   },
   "outputs": [
    {
     "name": "stdout",
     "output_type": "stream",
     "text": [
      "{\"ask\": 1.398, \"bid\": 1.398, \"ticker\": \"CURRENCY:EURAUD\", \"time\": \"2017-02-10 10:24:55.350617\"}\n",
      "{\"ask\": 1.3116, \"bid\": 1.3116, \"ticker\": \"CURRENCY:USDAUD\", \"time\": \"2017-02-10 10:24:55.351090\"}\n",
      "{\"ask\": 1.398, \"bid\": 1.398, \"ticker\": \"CURRENCY:EURAUD\", \"time\": \"2017-02-10 10:24:56.517225\"}\n",
      "{\"ask\": 1.3116, \"bid\": 1.3116, \"ticker\": \"CURRENCY:USDAUD\", \"time\": \"2017-02-10 10:24:56.517344\"}\n",
      "{\"ask\": 1.398, \"bid\": 1.398, \"ticker\": \"CURRENCY:EURAUD\", \"time\": \"2017-02-10 10:24:59.422918\"}\n",
      "{\"ask\": 1.3116, \"bid\": 1.3116, \"ticker\": \"CURRENCY:USDAUD\", \"time\": \"2017-02-10 10:24:59.423171\"}\n",
      "{\"ask\": 1.398, \"bid\": 1.398, \"ticker\": \"CURRENCY:EURAUD\", \"time\": \"2017-02-10 10:25:02.512198\"}\n",
      "{\"ask\": 1.3116, \"bid\": 1.3116, \"ticker\": \"CURRENCY:USDAUD\", \"time\": \"2017-02-10 10:25:02.512318\"}\n",
      "{\"ask\": 1.398, \"bid\": 1.398, \"ticker\": \"CURRENCY:EURAUD\", \"time\": \"2017-02-10 10:25:03.724269\"}\n",
      "{\"ask\": 1.3116, \"bid\": 1.3116, \"ticker\": \"CURRENCY:USDAUD\", \"time\": \"2017-02-10 10:25:03.724461\"}\n",
      "{\"ask\": 1.398, \"bid\": 1.398, \"ticker\": \"CURRENCY:EURAUD\", \"time\": \"2017-02-10 10:25:06.060242\"}\n",
      "{\"ask\": 1.3116, \"bid\": 1.3116, \"ticker\": \"CURRENCY:USDAUD\", \"time\": \"2017-02-10 10:25:06.060554\"}\n",
      "{\"ask\": 1.398, \"bid\": 1.398, \"ticker\": \"CURRENCY:EURAUD\", \"time\": \"2017-02-10 10:25:07.261332\"}\n",
      "{\"ask\": 1.3116, \"bid\": 1.3116, \"ticker\": \"CURRENCY:USDAUD\", \"time\": \"2017-02-10 10:25:07.261540\"}\n",
      "{\"ask\": 1.398, \"bid\": 1.398, \"ticker\": \"CURRENCY:EURAUD\", \"time\": \"2017-02-10 10:25:09.875984\"}\n",
      "{\"ask\": 1.3116, \"bid\": 1.3116, \"ticker\": \"CURRENCY:USDAUD\", \"time\": \"2017-02-10 10:25:09.876181\"}\n",
      "{\"ask\": 1.398, \"bid\": 1.398, \"ticker\": \"CURRENCY:EURAUD\", \"time\": \"2017-02-10 10:25:11.165181\"}\n",
      "{\"ask\": 1.3116, \"bid\": 1.3116, \"ticker\": \"CURRENCY:USDAUD\", \"time\": \"2017-02-10 10:25:11.165341\"}\n"
     ]
    },
    {
     "ename": "KeyboardInterrupt",
     "evalue": "",
     "output_type": "error",
     "traceback": [
      "\u001b[1;31m---------------------------------------------------------------------------\u001b[0m",
      "\u001b[1;31mKeyboardInterrupt\u001b[0m                         Traceback (most recent call last)",
      "\u001b[1;32m<ipython-input-8-2430510eed21>\u001b[0m in \u001b[0;36m<module>\u001b[1;34m()\u001b[0m\n\u001b[0;32m      2\u001b[0m \u001b[0mdata\u001b[0m \u001b[1;33m=\u001b[0m \u001b[0mGoogLiveFactory\u001b[0m\u001b[1;33m(\u001b[0m\u001b[1;33m[\u001b[0m\u001b[1;34m'CURRENCY:EURAUD,CURRENCY:USDAUD'\u001b[0m\u001b[1;33m]\u001b[0m\u001b[1;33m)\u001b[0m\u001b[1;33m\u001b[0m\u001b[0m\n\u001b[0;32m      3\u001b[0m \u001b[1;32mfor\u001b[0m \u001b[0mi\u001b[0m \u001b[1;32min\u001b[0m \u001b[0mrange\u001b[0m\u001b[1;33m(\u001b[0m\u001b[1;36m200\u001b[0m\u001b[1;33m)\u001b[0m\u001b[1;33m:\u001b[0m\u001b[1;33m\u001b[0m\u001b[0m\n\u001b[1;32m----> 4\u001b[1;33m     \u001b[1;32mprint\u001b[0m \u001b[0mdata\u001b[0m\u001b[1;33m.\u001b[0m\u001b[0mmydata\u001b[0m\u001b[1;33m(\u001b[0m\u001b[1;33m)\u001b[0m\u001b[1;33m\u001b[0m\u001b[0m\n\u001b[0m",
      "\u001b[1;32m/home/tom/work/interesting_stuff/platforms/slackline/data_factory.py\u001b[0m in \u001b[0;36mmydata\u001b[1;34m(self)\u001b[0m\n\u001b[0;32m    111\u001b[0m \u001b[1;33m\u001b[0m\u001b[0m\n\u001b[0;32m    112\u001b[0m     \u001b[1;32mdef\u001b[0m \u001b[0mmydata\u001b[0m\u001b[1;33m(\u001b[0m\u001b[0mself\u001b[0m\u001b[1;33m)\u001b[0m\u001b[1;33m:\u001b[0m\u001b[1;33m\u001b[0m\u001b[0m\n\u001b[1;32m--> 113\u001b[1;33m         \u001b[1;32mreturn\u001b[0m \u001b[0mself\u001b[0m\u001b[1;33m.\u001b[0m\u001b[0mfunc\u001b[0m\u001b[1;33m.\u001b[0m\u001b[0mnext\u001b[0m\u001b[1;33m(\u001b[0m\u001b[1;33m)\u001b[0m\u001b[1;33m\u001b[0m\u001b[0m\n\u001b[0m\u001b[0;32m    114\u001b[0m \u001b[1;33m\u001b[0m\u001b[0m\n\u001b[0;32m    115\u001b[0m \u001b[1;32mclass\u001b[0m \u001b[0mStreamDataFactory\u001b[0m\u001b[1;33m(\u001b[0m\u001b[1;33m)\u001b[0m\u001b[1;33m:\u001b[0m\u001b[1;33m\u001b[0m\u001b[0m\n",
      "\u001b[1;32m/home/tom/work/interesting_stuff/platforms/slackline/data_factory.py\u001b[0m in \u001b[0;36msource\u001b[1;34m(self)\u001b[0m\n\u001b[0;32m    105\u001b[0m                 \u001b[0mself\u001b[0m\u001b[1;33m.\u001b[0m\u001b[0mrandom_sleep\u001b[0m\u001b[1;33m(\u001b[0m\u001b[1;33m)\u001b[0m\u001b[1;33m\u001b[0m\u001b[0m\n\u001b[0;32m    106\u001b[0m \u001b[1;33m\u001b[0m\u001b[0m\n\u001b[1;32m--> 107\u001b[1;33m             \u001b[0mquotes\u001b[0m \u001b[1;33m=\u001b[0m \u001b[0mjson\u001b[0m\u001b[1;33m.\u001b[0m\u001b[0mloads\u001b[0m\u001b[1;33m(\u001b[0m\u001b[0mjson\u001b[0m\u001b[1;33m.\u001b[0m\u001b[0mdumps\u001b[0m\u001b[1;33m(\u001b[0m\u001b[0mgetQuotes\u001b[0m\u001b[1;33m(\u001b[0m\u001b[0mself\u001b[0m\u001b[1;33m.\u001b[0m\u001b[0msymbols\u001b[0m\u001b[1;33m)\u001b[0m\u001b[1;33m,\u001b[0m \u001b[0mindent\u001b[0m\u001b[1;33m=\u001b[0m\u001b[1;36m2\u001b[0m\u001b[1;33m)\u001b[0m\u001b[1;33m)\u001b[0m\u001b[1;33m\u001b[0m\u001b[0m\n\u001b[0m\u001b[0;32m    108\u001b[0m             \u001b[1;32mfor\u001b[0m \u001b[0mquote\u001b[0m \u001b[1;32min\u001b[0m \u001b[0mquotes\u001b[0m\u001b[1;33m:\u001b[0m\u001b[1;33m\u001b[0m\u001b[0m\n\u001b[0;32m    109\u001b[0m                 \u001b[0mtick\u001b[0m \u001b[1;33m=\u001b[0m \u001b[1;33m{\u001b[0m\u001b[1;34m'bid'\u001b[0m\u001b[1;33m:\u001b[0m\u001b[0mfloat\u001b[0m\u001b[1;33m(\u001b[0m\u001b[0mquote\u001b[0m\u001b[1;33m[\u001b[0m\u001b[1;34m'LastTradePrice'\u001b[0m\u001b[1;33m]\u001b[0m\u001b[1;33m)\u001b[0m\u001b[1;33m,\u001b[0m\u001b[1;34m'ask'\u001b[0m\u001b[1;33m:\u001b[0m\u001b[0mfloat\u001b[0m\u001b[1;33m(\u001b[0m\u001b[0mquote\u001b[0m\u001b[1;33m[\u001b[0m\u001b[1;34m'LastTradePrice'\u001b[0m\u001b[1;33m]\u001b[0m\u001b[1;33m)\u001b[0m\u001b[1;33m,\u001b[0m\u001b[1;34m'ticker'\u001b[0m\u001b[1;33m:\u001b[0m\u001b[0mquote\u001b[0m\u001b[1;33m[\u001b[0m\u001b[1;34m'Index'\u001b[0m\u001b[1;33m]\u001b[0m\u001b[1;33m+\u001b[0m\u001b[1;34m':'\u001b[0m\u001b[1;33m+\u001b[0m\u001b[0mquote\u001b[0m\u001b[1;33m[\u001b[0m\u001b[1;34m'StockSymbol'\u001b[0m\u001b[1;33m]\u001b[0m\u001b[1;33m,\u001b[0m\u001b[1;34m'time'\u001b[0m\u001b[1;33m:\u001b[0m\u001b[0mstr\u001b[0m\u001b[1;33m(\u001b[0m\u001b[0mdatetime\u001b[0m\u001b[1;33m.\u001b[0m\u001b[0mnow\u001b[0m\u001b[1;33m(\u001b[0m\u001b[1;33m)\u001b[0m\u001b[1;33m)\u001b[0m\u001b[1;33m}\u001b[0m\u001b[1;33m\u001b[0m\u001b[0m\n",
      "\u001b[1;32m/usr/local/lib/python2.7/dist-packages/googlefinance/__init__.pyc\u001b[0m in \u001b[0;36mgetQuotes\u001b[1;34m(symbols)\u001b[0m\n\u001b[0;32m     68\u001b[0m     \u001b[1;32mif\u001b[0m \u001b[0mtype\u001b[0m\u001b[1;33m(\u001b[0m\u001b[0msymbols\u001b[0m\u001b[1;33m)\u001b[0m \u001b[1;33m==\u001b[0m \u001b[0mtype\u001b[0m\u001b[1;33m(\u001b[0m\u001b[1;34m'str'\u001b[0m\u001b[1;33m)\u001b[0m\u001b[1;33m:\u001b[0m\u001b[1;33m\u001b[0m\u001b[0m\n\u001b[0;32m     69\u001b[0m         \u001b[0msymbols\u001b[0m \u001b[1;33m=\u001b[0m \u001b[1;33m[\u001b[0m\u001b[0msymbols\u001b[0m\u001b[1;33m]\u001b[0m\u001b[1;33m\u001b[0m\u001b[0m\n\u001b[1;32m---> 70\u001b[1;33m     \u001b[0mcontent\u001b[0m \u001b[1;33m=\u001b[0m \u001b[0mjson\u001b[0m\u001b[1;33m.\u001b[0m\u001b[0mloads\u001b[0m\u001b[1;33m(\u001b[0m\u001b[0mrequest\u001b[0m\u001b[1;33m(\u001b[0m\u001b[0msymbols\u001b[0m\u001b[1;33m)\u001b[0m\u001b[1;33m)\u001b[0m\u001b[1;33m\u001b[0m\u001b[0m\n\u001b[0m\u001b[0;32m     71\u001b[0m     \u001b[1;32mreturn\u001b[0m \u001b[0mreplaceKeys\u001b[0m\u001b[1;33m(\u001b[0m\u001b[0mcontent\u001b[0m\u001b[1;33m)\u001b[0m\u001b[1;33m;\u001b[0m\u001b[1;33m\u001b[0m\u001b[0m\n\u001b[0;32m     72\u001b[0m \u001b[1;33m\u001b[0m\u001b[0m\n",
      "\u001b[1;32m/usr/local/lib/python2.7/dist-packages/googlefinance/__init__.pyc\u001b[0m in \u001b[0;36mrequest\u001b[1;34m(symbols)\u001b[0m\n\u001b[0;32m     31\u001b[0m     \u001b[0murl\u001b[0m \u001b[1;33m=\u001b[0m \u001b[0mbuildUrl\u001b[0m\u001b[1;33m(\u001b[0m\u001b[0msymbols\u001b[0m\u001b[1;33m)\u001b[0m\u001b[1;33m\u001b[0m\u001b[0m\n\u001b[0;32m     32\u001b[0m     \u001b[0mreq\u001b[0m \u001b[1;33m=\u001b[0m \u001b[0mRequest\u001b[0m\u001b[1;33m(\u001b[0m\u001b[0murl\u001b[0m\u001b[1;33m)\u001b[0m\u001b[1;33m\u001b[0m\u001b[0m\n\u001b[1;32m---> 33\u001b[1;33m     \u001b[0mresp\u001b[0m \u001b[1;33m=\u001b[0m \u001b[0murlopen\u001b[0m\u001b[1;33m(\u001b[0m\u001b[0mreq\u001b[0m\u001b[1;33m)\u001b[0m\u001b[1;33m\u001b[0m\u001b[0m\n\u001b[0m\u001b[0;32m     34\u001b[0m     \u001b[1;31m# remove special symbols such as the pound symbol\u001b[0m\u001b[1;33m\u001b[0m\u001b[1;33m\u001b[0m\u001b[0m\n\u001b[0;32m     35\u001b[0m     \u001b[0mcontent\u001b[0m \u001b[1;33m=\u001b[0m \u001b[0mresp\u001b[0m\u001b[1;33m.\u001b[0m\u001b[0mread\u001b[0m\u001b[1;33m(\u001b[0m\u001b[1;33m)\u001b[0m\u001b[1;33m.\u001b[0m\u001b[0mdecode\u001b[0m\u001b[1;33m(\u001b[0m\u001b[1;34m'ascii'\u001b[0m\u001b[1;33m,\u001b[0m \u001b[1;34m'ignore'\u001b[0m\u001b[1;33m)\u001b[0m\u001b[1;33m.\u001b[0m\u001b[0mstrip\u001b[0m\u001b[1;33m(\u001b[0m\u001b[1;33m)\u001b[0m\u001b[1;33m\u001b[0m\u001b[0m\n",
      "\u001b[1;32m/usr/lib/python2.7/urllib2.pyc\u001b[0m in \u001b[0;36murlopen\u001b[1;34m(url, data, timeout)\u001b[0m\n\u001b[0;32m    125\u001b[0m     \u001b[1;32mif\u001b[0m \u001b[0m_opener\u001b[0m \u001b[1;32mis\u001b[0m \u001b[0mNone\u001b[0m\u001b[1;33m:\u001b[0m\u001b[1;33m\u001b[0m\u001b[0m\n\u001b[0;32m    126\u001b[0m         \u001b[0m_opener\u001b[0m \u001b[1;33m=\u001b[0m \u001b[0mbuild_opener\u001b[0m\u001b[1;33m(\u001b[0m\u001b[1;33m)\u001b[0m\u001b[1;33m\u001b[0m\u001b[0m\n\u001b[1;32m--> 127\u001b[1;33m     \u001b[1;32mreturn\u001b[0m \u001b[0m_opener\u001b[0m\u001b[1;33m.\u001b[0m\u001b[0mopen\u001b[0m\u001b[1;33m(\u001b[0m\u001b[0murl\u001b[0m\u001b[1;33m,\u001b[0m \u001b[0mdata\u001b[0m\u001b[1;33m,\u001b[0m \u001b[0mtimeout\u001b[0m\u001b[1;33m)\u001b[0m\u001b[1;33m\u001b[0m\u001b[0m\n\u001b[0m\u001b[0;32m    128\u001b[0m \u001b[1;33m\u001b[0m\u001b[0m\n\u001b[0;32m    129\u001b[0m \u001b[1;32mdef\u001b[0m \u001b[0minstall_opener\u001b[0m\u001b[1;33m(\u001b[0m\u001b[0mopener\u001b[0m\u001b[1;33m)\u001b[0m\u001b[1;33m:\u001b[0m\u001b[1;33m\u001b[0m\u001b[0m\n",
      "\u001b[1;32m/usr/lib/python2.7/urllib2.pyc\u001b[0m in \u001b[0;36mopen\u001b[1;34m(self, fullurl, data, timeout)\u001b[0m\n\u001b[0;32m    402\u001b[0m             \u001b[0mreq\u001b[0m \u001b[1;33m=\u001b[0m \u001b[0mmeth\u001b[0m\u001b[1;33m(\u001b[0m\u001b[0mreq\u001b[0m\u001b[1;33m)\u001b[0m\u001b[1;33m\u001b[0m\u001b[0m\n\u001b[0;32m    403\u001b[0m \u001b[1;33m\u001b[0m\u001b[0m\n\u001b[1;32m--> 404\u001b[1;33m         \u001b[0mresponse\u001b[0m \u001b[1;33m=\u001b[0m \u001b[0mself\u001b[0m\u001b[1;33m.\u001b[0m\u001b[0m_open\u001b[0m\u001b[1;33m(\u001b[0m\u001b[0mreq\u001b[0m\u001b[1;33m,\u001b[0m \u001b[0mdata\u001b[0m\u001b[1;33m)\u001b[0m\u001b[1;33m\u001b[0m\u001b[0m\n\u001b[0m\u001b[0;32m    405\u001b[0m \u001b[1;33m\u001b[0m\u001b[0m\n\u001b[0;32m    406\u001b[0m         \u001b[1;31m# post-process response\u001b[0m\u001b[1;33m\u001b[0m\u001b[1;33m\u001b[0m\u001b[0m\n",
      "\u001b[1;32m/usr/lib/python2.7/urllib2.pyc\u001b[0m in \u001b[0;36m_open\u001b[1;34m(self, req, data)\u001b[0m\n\u001b[0;32m    420\u001b[0m         \u001b[0mprotocol\u001b[0m \u001b[1;33m=\u001b[0m \u001b[0mreq\u001b[0m\u001b[1;33m.\u001b[0m\u001b[0mget_type\u001b[0m\u001b[1;33m(\u001b[0m\u001b[1;33m)\u001b[0m\u001b[1;33m\u001b[0m\u001b[0m\n\u001b[0;32m    421\u001b[0m         result = self._call_chain(self.handle_open, protocol, protocol +\n\u001b[1;32m--> 422\u001b[1;33m                                   '_open', req)\n\u001b[0m\u001b[0;32m    423\u001b[0m         \u001b[1;32mif\u001b[0m \u001b[0mresult\u001b[0m\u001b[1;33m:\u001b[0m\u001b[1;33m\u001b[0m\u001b[0m\n\u001b[0;32m    424\u001b[0m             \u001b[1;32mreturn\u001b[0m \u001b[0mresult\u001b[0m\u001b[1;33m\u001b[0m\u001b[0m\n",
      "\u001b[1;32m/usr/lib/python2.7/urllib2.pyc\u001b[0m in \u001b[0;36m_call_chain\u001b[1;34m(self, chain, kind, meth_name, *args)\u001b[0m\n\u001b[0;32m    380\u001b[0m             \u001b[0mfunc\u001b[0m \u001b[1;33m=\u001b[0m \u001b[0mgetattr\u001b[0m\u001b[1;33m(\u001b[0m\u001b[0mhandler\u001b[0m\u001b[1;33m,\u001b[0m \u001b[0mmeth_name\u001b[0m\u001b[1;33m)\u001b[0m\u001b[1;33m\u001b[0m\u001b[0m\n\u001b[0;32m    381\u001b[0m \u001b[1;33m\u001b[0m\u001b[0m\n\u001b[1;32m--> 382\u001b[1;33m             \u001b[0mresult\u001b[0m \u001b[1;33m=\u001b[0m \u001b[0mfunc\u001b[0m\u001b[1;33m(\u001b[0m\u001b[1;33m*\u001b[0m\u001b[0margs\u001b[0m\u001b[1;33m)\u001b[0m\u001b[1;33m\u001b[0m\u001b[0m\n\u001b[0m\u001b[0;32m    383\u001b[0m             \u001b[1;32mif\u001b[0m \u001b[0mresult\u001b[0m \u001b[1;32mis\u001b[0m \u001b[1;32mnot\u001b[0m \u001b[0mNone\u001b[0m\u001b[1;33m:\u001b[0m\u001b[1;33m\u001b[0m\u001b[0m\n\u001b[0;32m    384\u001b[0m                 \u001b[1;32mreturn\u001b[0m \u001b[0mresult\u001b[0m\u001b[1;33m\u001b[0m\u001b[0m\n",
      "\u001b[1;32m/usr/lib/python2.7/urllib2.pyc\u001b[0m in \u001b[0;36mhttp_open\u001b[1;34m(self, req)\u001b[0m\n\u001b[0;32m   1212\u001b[0m \u001b[1;33m\u001b[0m\u001b[0m\n\u001b[0;32m   1213\u001b[0m     \u001b[1;32mdef\u001b[0m \u001b[0mhttp_open\u001b[0m\u001b[1;33m(\u001b[0m\u001b[0mself\u001b[0m\u001b[1;33m,\u001b[0m \u001b[0mreq\u001b[0m\u001b[1;33m)\u001b[0m\u001b[1;33m:\u001b[0m\u001b[1;33m\u001b[0m\u001b[0m\n\u001b[1;32m-> 1214\u001b[1;33m         \u001b[1;32mreturn\u001b[0m \u001b[0mself\u001b[0m\u001b[1;33m.\u001b[0m\u001b[0mdo_open\u001b[0m\u001b[1;33m(\u001b[0m\u001b[0mhttplib\u001b[0m\u001b[1;33m.\u001b[0m\u001b[0mHTTPConnection\u001b[0m\u001b[1;33m,\u001b[0m \u001b[0mreq\u001b[0m\u001b[1;33m)\u001b[0m\u001b[1;33m\u001b[0m\u001b[0m\n\u001b[0m\u001b[0;32m   1215\u001b[0m \u001b[1;33m\u001b[0m\u001b[0m\n\u001b[0;32m   1216\u001b[0m     \u001b[0mhttp_request\u001b[0m \u001b[1;33m=\u001b[0m \u001b[0mAbstractHTTPHandler\u001b[0m\u001b[1;33m.\u001b[0m\u001b[0mdo_request_\u001b[0m\u001b[1;33m\u001b[0m\u001b[0m\n",
      "\u001b[1;32m/usr/lib/python2.7/urllib2.pyc\u001b[0m in \u001b[0;36mdo_open\u001b[1;34m(self, http_class, req)\u001b[0m\n\u001b[0;32m   1185\u001b[0m         \u001b[1;32melse\u001b[0m\u001b[1;33m:\u001b[0m\u001b[1;33m\u001b[0m\u001b[0m\n\u001b[0;32m   1186\u001b[0m             \u001b[1;32mtry\u001b[0m\u001b[1;33m:\u001b[0m\u001b[1;33m\u001b[0m\u001b[0m\n\u001b[1;32m-> 1187\u001b[1;33m                 \u001b[0mr\u001b[0m \u001b[1;33m=\u001b[0m \u001b[0mh\u001b[0m\u001b[1;33m.\u001b[0m\u001b[0mgetresponse\u001b[0m\u001b[1;33m(\u001b[0m\u001b[0mbuffering\u001b[0m\u001b[1;33m=\u001b[0m\u001b[0mTrue\u001b[0m\u001b[1;33m)\u001b[0m\u001b[1;33m\u001b[0m\u001b[0m\n\u001b[0m\u001b[0;32m   1188\u001b[0m             \u001b[1;32mexcept\u001b[0m \u001b[0mTypeError\u001b[0m\u001b[1;33m:\u001b[0m \u001b[1;31m# buffering kw not supported\u001b[0m\u001b[1;33m\u001b[0m\u001b[0m\n\u001b[0;32m   1189\u001b[0m                 \u001b[0mr\u001b[0m \u001b[1;33m=\u001b[0m \u001b[0mh\u001b[0m\u001b[1;33m.\u001b[0m\u001b[0mgetresponse\u001b[0m\u001b[1;33m(\u001b[0m\u001b[1;33m)\u001b[0m\u001b[1;33m\u001b[0m\u001b[0m\n",
      "\u001b[1;32m/usr/lib/python2.7/httplib.pyc\u001b[0m in \u001b[0;36mgetresponse\u001b[1;34m(self, buffering)\u001b[0m\n\u001b[0;32m   1049\u001b[0m         \u001b[0mresponse\u001b[0m \u001b[1;33m=\u001b[0m \u001b[0mself\u001b[0m\u001b[1;33m.\u001b[0m\u001b[0mresponse_class\u001b[0m\u001b[1;33m(\u001b[0m\u001b[1;33m*\u001b[0m\u001b[0margs\u001b[0m\u001b[1;33m,\u001b[0m \u001b[1;33m**\u001b[0m\u001b[0mkwds\u001b[0m\u001b[1;33m)\u001b[0m\u001b[1;33m\u001b[0m\u001b[0m\n\u001b[0;32m   1050\u001b[0m \u001b[1;33m\u001b[0m\u001b[0m\n\u001b[1;32m-> 1051\u001b[1;33m         \u001b[0mresponse\u001b[0m\u001b[1;33m.\u001b[0m\u001b[0mbegin\u001b[0m\u001b[1;33m(\u001b[0m\u001b[1;33m)\u001b[0m\u001b[1;33m\u001b[0m\u001b[0m\n\u001b[0m\u001b[0;32m   1052\u001b[0m         \u001b[1;32massert\u001b[0m \u001b[0mresponse\u001b[0m\u001b[1;33m.\u001b[0m\u001b[0mwill_close\u001b[0m \u001b[1;33m!=\u001b[0m \u001b[0m_UNKNOWN\u001b[0m\u001b[1;33m\u001b[0m\u001b[0m\n\u001b[0;32m   1053\u001b[0m         \u001b[0mself\u001b[0m\u001b[1;33m.\u001b[0m\u001b[0m__state\u001b[0m \u001b[1;33m=\u001b[0m \u001b[0m_CS_IDLE\u001b[0m\u001b[1;33m\u001b[0m\u001b[0m\n",
      "\u001b[1;32m/usr/lib/python2.7/httplib.pyc\u001b[0m in \u001b[0;36mbegin\u001b[1;34m(self)\u001b[0m\n\u001b[0;32m    413\u001b[0m         \u001b[1;31m# read until we get a non-100 response\u001b[0m\u001b[1;33m\u001b[0m\u001b[1;33m\u001b[0m\u001b[0m\n\u001b[0;32m    414\u001b[0m         \u001b[1;32mwhile\u001b[0m \u001b[0mTrue\u001b[0m\u001b[1;33m:\u001b[0m\u001b[1;33m\u001b[0m\u001b[0m\n\u001b[1;32m--> 415\u001b[1;33m             \u001b[0mversion\u001b[0m\u001b[1;33m,\u001b[0m \u001b[0mstatus\u001b[0m\u001b[1;33m,\u001b[0m \u001b[0mreason\u001b[0m \u001b[1;33m=\u001b[0m \u001b[0mself\u001b[0m\u001b[1;33m.\u001b[0m\u001b[0m_read_status\u001b[0m\u001b[1;33m(\u001b[0m\u001b[1;33m)\u001b[0m\u001b[1;33m\u001b[0m\u001b[0m\n\u001b[0m\u001b[0;32m    416\u001b[0m             \u001b[1;32mif\u001b[0m \u001b[0mstatus\u001b[0m \u001b[1;33m!=\u001b[0m \u001b[0mCONTINUE\u001b[0m\u001b[1;33m:\u001b[0m\u001b[1;33m\u001b[0m\u001b[0m\n\u001b[0;32m    417\u001b[0m                 \u001b[1;32mbreak\u001b[0m\u001b[1;33m\u001b[0m\u001b[0m\n",
      "\u001b[1;32m/usr/lib/python2.7/httplib.pyc\u001b[0m in \u001b[0;36m_read_status\u001b[1;34m(self)\u001b[0m\n\u001b[0;32m    369\u001b[0m     \u001b[1;32mdef\u001b[0m \u001b[0m_read_status\u001b[0m\u001b[1;33m(\u001b[0m\u001b[0mself\u001b[0m\u001b[1;33m)\u001b[0m\u001b[1;33m:\u001b[0m\u001b[1;33m\u001b[0m\u001b[0m\n\u001b[0;32m    370\u001b[0m         \u001b[1;31m# Initialize with Simple-Response defaults\u001b[0m\u001b[1;33m\u001b[0m\u001b[1;33m\u001b[0m\u001b[0m\n\u001b[1;32m--> 371\u001b[1;33m         \u001b[0mline\u001b[0m \u001b[1;33m=\u001b[0m \u001b[0mself\u001b[0m\u001b[1;33m.\u001b[0m\u001b[0mfp\u001b[0m\u001b[1;33m.\u001b[0m\u001b[0mreadline\u001b[0m\u001b[1;33m(\u001b[0m\u001b[0m_MAXLINE\u001b[0m \u001b[1;33m+\u001b[0m \u001b[1;36m1\u001b[0m\u001b[1;33m)\u001b[0m\u001b[1;33m\u001b[0m\u001b[0m\n\u001b[0m\u001b[0;32m    372\u001b[0m         \u001b[1;32mif\u001b[0m \u001b[0mlen\u001b[0m\u001b[1;33m(\u001b[0m\u001b[0mline\u001b[0m\u001b[1;33m)\u001b[0m \u001b[1;33m>\u001b[0m \u001b[0m_MAXLINE\u001b[0m\u001b[1;33m:\u001b[0m\u001b[1;33m\u001b[0m\u001b[0m\n\u001b[0;32m    373\u001b[0m             \u001b[1;32mraise\u001b[0m \u001b[0mLineTooLong\u001b[0m\u001b[1;33m(\u001b[0m\u001b[1;34m\"header line\"\u001b[0m\u001b[1;33m)\u001b[0m\u001b[1;33m\u001b[0m\u001b[0m\n",
      "\u001b[1;32m/usr/lib/python2.7/socket.pyc\u001b[0m in \u001b[0;36mreadline\u001b[1;34m(self, size)\u001b[0m\n\u001b[0;32m    474\u001b[0m             \u001b[1;32mwhile\u001b[0m \u001b[0mTrue\u001b[0m\u001b[1;33m:\u001b[0m\u001b[1;33m\u001b[0m\u001b[0m\n\u001b[0;32m    475\u001b[0m                 \u001b[1;32mtry\u001b[0m\u001b[1;33m:\u001b[0m\u001b[1;33m\u001b[0m\u001b[0m\n\u001b[1;32m--> 476\u001b[1;33m                     \u001b[0mdata\u001b[0m \u001b[1;33m=\u001b[0m \u001b[0mself\u001b[0m\u001b[1;33m.\u001b[0m\u001b[0m_sock\u001b[0m\u001b[1;33m.\u001b[0m\u001b[0mrecv\u001b[0m\u001b[1;33m(\u001b[0m\u001b[0mself\u001b[0m\u001b[1;33m.\u001b[0m\u001b[0m_rbufsize\u001b[0m\u001b[1;33m)\u001b[0m\u001b[1;33m\u001b[0m\u001b[0m\n\u001b[0m\u001b[0;32m    477\u001b[0m                 \u001b[1;32mexcept\u001b[0m \u001b[0merror\u001b[0m\u001b[1;33m,\u001b[0m \u001b[0me\u001b[0m\u001b[1;33m:\u001b[0m\u001b[1;33m\u001b[0m\u001b[0m\n\u001b[0;32m    478\u001b[0m                     \u001b[1;32mif\u001b[0m \u001b[0me\u001b[0m\u001b[1;33m.\u001b[0m\u001b[0margs\u001b[0m\u001b[1;33m[\u001b[0m\u001b[1;36m0\u001b[0m\u001b[1;33m]\u001b[0m \u001b[1;33m==\u001b[0m \u001b[0mEINTR\u001b[0m\u001b[1;33m:\u001b[0m\u001b[1;33m\u001b[0m\u001b[0m\n",
      "\u001b[1;31mKeyboardInterrupt\u001b[0m: "
     ]
    }
   ],
   "source": [
    "data = GoogLiveFactory(['MSFT'])\n",
    "data = GoogLiveFactory(['CURRENCY:EURAUD,CURRENCY:USDAUD'])\n",
    "for i in range(200):\n",
    "    print data.mydata()"
   ]
  },
  {
   "cell_type": "code",
   "execution_count": null,
   "metadata": {
    "collapsed": true
   },
   "outputs": [],
   "source": []
  }
 ],
 "metadata": {
  "kernelspec": {
   "display_name": "Python 2",
   "language": "python",
   "name": "python2"
  },
  "language_info": {
   "codemirror_mode": {
    "name": "ipython",
    "version": 2
   },
   "file_extension": ".py",
   "mimetype": "text/x-python",
   "name": "python",
   "nbconvert_exporter": "python",
   "pygments_lexer": "ipython2",
   "version": "2.7.6"
  }
 },
 "nbformat": 4,
 "nbformat_minor": 0
}
