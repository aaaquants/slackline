{
 "cells": [
  {
   "cell_type": "code",
   "execution_count": 2,
   "metadata": {
    "collapsed": false
   },
   "outputs": [],
   "source": [
    "# from __future__ import print_function\n",
    "from datetime import datetime,timedelta\n",
    "from data_factory import *\n",
    "from engine import *\n",
    "from utils import *\n",
    "from logger import Logging\n",
    "import config.config_lesson1 as config\n",
    "import traceback\n",
    "logger = Logging(__name__).logger\n"
   ]
  },
  {
   "cell_type": "code",
   "execution_count": 3,
   "metadata": {
    "collapsed": true
   },
   "outputs": [],
   "source": [
    "def initialize_csv(context):\n",
    "    csv_fetcher(context,'data/MSFT.csv','signals')"
   ]
  },
  {
   "cell_type": "code",
   "execution_count": 4,
   "metadata": {
    "collapsed": true
   },
   "outputs": [],
   "source": [
    "def handle_data_csv(context):\n",
    "    if random.randint(0,100) == 23:\n",
    "        order(context,'MSFT',1)\n",
    "    if random.randint(0,100) == 23:\n",
    "        order(context,'AAPL',1)"
   ]
  },
  {
   "cell_type": "code",
   "execution_count": 5,
   "metadata": {
    "collapsed": true
   },
   "outputs": [],
   "source": [
    "def run_csv():\n",
    "    data = CSVDataFactory(['data/MSFT.csv','data/AAPL.csv'])()\n",
    "    strategy = Strategy(config,handle_data=handle_data_csv,initialize=initialize_csv)\n",
    "    strategy.run(data,start=datetime(2012,1,1),finish=datetime(2014,12,12))"
   ]
  },
  {
   "cell_type": "code",
   "execution_count": 6,
   "metadata": {
    "collapsed": false
   },
   "outputs": [
    {
     "name": "stdout",
     "output_type": "stream",
     "text": [
      "Order Loaded AAPL 2012-04-03 00:00:00\n",
      "(datetime.datetime(2012, 4, 4, 0, 0), 'ORDERING instrument:', 'AAPL', ' quantity:', 1, ' price:', 89.19, ' positions:', 1, 'pnl:', 0)\n",
      "Order Loaded MSFT 2012-11-05 00:00:00\n",
      "(datetime.datetime(2012, 11, 6, 0, 0), 'ORDERING instrument:', 'MSFT', ' quantity:', 1, ' price:', 29.86, ' positions:', 1, 'pnl:', -5.6700000000000017)\n",
      "Order Loaded AAPL 2013-07-01 00:00:00\n",
      "(datetime.datetime(2013, 7, 2, 0, 0), 'ORDERING instrument:', 'AAPL', ' quantity:', 1, ' price:', 59.78, ' positions:', 2, 'pnl:', -26.229999999999997)\n",
      "Order Loaded MSFT 2014-01-23 00:00:00\n",
      "(datetime.datetime(2014, 1, 24, 0, 0), 'ORDERING instrument:', 'MSFT', ' quantity:', 1, ' price:', 36.8, ' positions:', 2, 'pnl:', 16.13000000000001)\n",
      "Order Loaded MSFT 2014-03-05 00:00:00\n",
      "(datetime.datetime(2014, 3, 6, 0, 0), 'ORDERING instrument:', 'MSFT', ' quantity:', 1, ' price:', 38.15, ' positions:', 3, 'pnl:', 12.689999999999998)\n",
      "Order Loaded AAPL 2014-03-20 00:00:00\n",
      "(datetime.datetime(2014, 3, 21, 0, 0), 'ORDERING instrument:', 'AAPL', ' quantity:', 1, ' price:', 76.12, ' positions:', 3, 'pnl:', 18.269999999999996)\n"
     ]
    }
   ],
   "source": [
    "if __name__=='__main__':\n",
    "    run_csv()"
   ]
  },
  {
   "cell_type": "code",
   "execution_count": null,
   "metadata": {
    "collapsed": true
   },
   "outputs": [],
   "source": []
  }
 ],
 "metadata": {
  "kernelspec": {
   "display_name": "Python 2",
   "language": "python",
   "name": "python2"
  },
  "language_info": {
   "codemirror_mode": {
    "name": "ipython",
    "version": 2
   },
   "file_extension": ".py",
   "mimetype": "text/x-python",
   "name": "python",
   "nbconvert_exporter": "python",
   "pygments_lexer": "ipython2",
   "version": "2.7.6"
  }
 },
 "nbformat": 4,
 "nbformat_minor": 0
}
