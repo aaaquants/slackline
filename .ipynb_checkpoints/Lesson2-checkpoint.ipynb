{
 "cells": [
  {
   "cell_type": "code",
   "execution_count": null,
   "metadata": {
    "collapsed": true
   },
   "outputs": [],
   "source": [
    "from data_factory import *\n",
    "\n",
    "\n",
    "fact = WebDataFactory([\"F\",\"IBM\",\"CSCO\",\"GOOG\"],datetime(2010, 1, 1),datetime(2017, 1, 1),source='google')()\n",
    "print fact\n",
    "\n",
    "data = CSVDataFactory(['data/AAPL.csv','data/MSFT.csv'])\n",
    "print data.mydata\n",
    "\n",
    "data = RandomDataFactory(rcfg)\n",
    "print data.mydata\n",
    "\n",
    "data = StreamDataFactory('data/test_stream.csv')\n",
    "print data.mydata()\n",
    "\n",
    "data = GoogLiveFactory(['MSFT'])\n",
    "data = GoogLiveFactory(['CURRENCY:EURAUD,CURRENCY:USDAUD'])\n",
    "for i in range(200):\n",
    "    print data.mydata()"
   ]
  }
 ],
 "metadata": {
  "kernelspec": {
   "display_name": "Python 2",
   "language": "python",
   "name": "python2"
  },
  "language_info": {
   "codemirror_mode": {
    "name": "ipython",
    "version": 2
   },
   "file_extension": ".py",
   "mimetype": "text/x-python",
   "name": "python",
   "nbconvert_exporter": "python",
   "pygments_lexer": "ipython2",
   "version": "2.7.6"
  }
 },
 "nbformat": 4,
 "nbformat_minor": 0
}
